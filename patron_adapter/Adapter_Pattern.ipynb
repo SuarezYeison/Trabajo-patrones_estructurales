{
 "cells": [
  {
   "cell_type": "markdown",
   "metadata": {},
   "source": [
    "# Patrón Adapter - Integración con APIs de Pago"
   ]
  },
  {
   "cell_type": "markdown",
   "metadata": {},
   "source": [
    "## Definición del Problema\n",
    "Necesidad de trabajar con:\n",
    "- Múltiples proveedores de pago (PayPal, Stripe, bancos)\n",
    "- Interfaces heterogéneas:\n",
    "  - PayPal: `RealizarPago(monto, moneda)`\n",
    "  - Stripe: `CrearCargo(centavos, descripción)`\n",
    "- Requerimiento de interfaz uniforme: `Pagar(monto)`"
   ]
  },
  {
   "cell_type": "markdown",
   "metadata": {},
   "source": [
    "## Justificación del Patrón\n",
    "1. **Unificación**: Adapta interfaces incompatibles\n",
    "2. **Desacoplamiento**: Aísla el código de APIs externas\n",
    "3. **Inversión de Dependencias**: Depende de abstracciones\n",
    "4. **Mantenibilidad**: Cambios localizados en adaptadores"
   ]
  },
  {
   "cell_type": "markdown",
   "metadata": {},
   "source": [
    "## Implementación en C#"
   ]
  },
  {
   "cell_type": "code",
   "execution_count": null,
   "metadata": {},
   "outputs": [],
   "source": [
    "// Interfaz objetivo\n",
    "public interface IPaymentGateway {\n",
    "    bool ProcessPayment(decimal amount);\n",
    "}\n",
    "\n",
    "// API externa\n",
    "public class PayPalAPI {\n",
    "    public bool MakePayment(decimal amount, string currency) {\n",
    "        Console.WriteLine($\"PayPal payment: {amount} {currency}\");\n",
    "        return true;\n",
    "    }\n",
    "}\n",
    "\n",
    "// Adaptador\n",
    "public class PayPalAdapter : IPaymentGateway {\n",
    "    private readonly PayPalAPI _paypal;\n",
    "\n",
    "    public PayPalAdapter(PayPalAPI paypal) {\n",
    "        _paypal = paypal;\n",
    "    }\n",
    "\n",
    "    public bool ProcessPayment(decimal amount) {\n",
    "        return _paypal.MakePayment(amount, \"USD\");\n",
    "    }\n",
    "}"
   ]
  }
 ],
 "metadata": {
  "kernelspec": {
   "display_name": "Python 3",
   "language": "python",
   "name": "python3"
  },
  "language_info": {
   "codemirror_mode": {
    "name": "ipython",
    "version": 3
   },
   "file_extension": ".py",
   "mimetype": "text/x-python",
   "name": "python",
   "nbconvert_exporter": "python",
   "pygments_lexer": "ipython3",
   "version": "3.9.6"
  }
 },
 "nbformat": 4,
 "nbformat_minor": 4
}
