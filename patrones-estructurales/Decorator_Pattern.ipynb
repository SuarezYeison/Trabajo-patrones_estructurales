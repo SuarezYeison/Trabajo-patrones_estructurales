{
 "cells": [
  {
   "cell_type": "markdown",
   "metadata": {},
   "source": [
    "# Patrón Decorator - Sistema de Notificaciones Flexibles"
   ]
  },
  {
   "cell_type": "markdown",
   "metadata": {},
   "source": [
    "## Definición del Problema\n",
    "Necesitamos un sistema de notificaciones que permita:\n",
    "- Enviar mensajes a través de múltiples canales (email, SMS, push)\n",
    "- Añadir funcionalidades adicionales (formato HTML, prioridad urgente, cifrado) de forma dinámica\n",
    "- Combinar estas funcionalidades sin crear una explosión de subclases\n",
    "\n",
    "**Problema concreto:** Crecimiento exponencial de clases al implementar todas las combinaciones posibles."
   ]
  },
  {
   "cell_type": "markdown",
   "metadata": {},
   "source": [
    "## Justificación del Patrón\n",
    "1. **Extensión flexible**: Añade responsabilidades sin afectar otros objetos\n",
    "2. **Evita herencia múltiple**: Simplifica la jerarquía de clases\n",
    "3. **Open/Closed Principle**: Extensible sin modificar código existente\n",
    "4. **Composición dinámica**: Combinaciones en tiempo de ejecución"
   ]
  },
  {
   "cell_type": "markdown",
   "metadata": {},
   "source": [
    "## Diagrama UML"
   ]
  },
  {
   "cell_type": "code",
   "execution_count": null,
   "metadata": {},
   "outputs": [],
   "source": [
    "%%mermaid\n",
    "classDiagram\n",
    "    direction TB\n",
    "    \n",
    "    class INotificador {\n",
    "        <<interface>>\n",
    "        +Enviar(mensaje: string) void\n",
    "    }\n",
    "    \n",
    "    class NotificadorBase {\n",
    "        <<abstract>>\n",
    "        +Enviar(mensaje: string) void\n",
    "    }\n",
    "    \n",
    "    class NotificadorEmail {\n",
    "        +Enviar(mensaje: string) void\n",
    "    }\n",
    "    \n",
    "    class DecoradorNotificador {\n",
    "        <<abstract>>\n",
    "        -_notificador: INotificador\n",
    "        +Enviar(mensaje: string) void\n",
    "    }\n",
    "    \n",
    "    class DecoradorHTML {\n",
    "        +Enviar(mensaje: string) void\n",
    "    }\n",
    "    \n",
    "    INotificador <|-- NotificadorBase\n",
    "    NotificadorBase <|-- NotificadorEmail\n",
    "    INotificador <|-- DecoradorNotificador\n",
    "    DecoradorNotificador <|-- DecoradorHTML\n",
    "    DecoradorNotificador o-- INotificador\n",
    "    \n",
    "    note for DecoradorNotificador \"Puede decorar tanto notificadores\n    concretos como otros decoradores\""
   ]
  },
  {
   "cell_type": "markdown",
   "metadata": {},
   "source": [
    "## Implementación en C#"
   ]
  },
  {
   "cell_type": "code",
   "execution_count": null,
   "metadata": {},
   "outputs": [],
   "source": [
    "// Interfaz común\n",
    "public interface INotificador {\n",
    "    void Enviar(string mensaje);\n",
    "}\n",
    "\n",
    "// Implementación base\n",
    "public class NotificadorEmail : INotificador {\n",
    "    public void Enviar(string mensaje) {\n",
    "        Console.WriteLine($\"Enviando email: {mensaje}\");\n",
    "    }\n",
    "}\n",
    "\n",
    "// Decorador base\n",
    "public abstract class DecoradorNotificador : INotificador {\n",
    "    protected INotificador _notificador;\n",
    "\n",
    "    public DecoradorNotificador(INotificador notificador) {\n",
    "        _notificador = notificador;\n",
    "    }\n",
    "\n",
    "    public virtual void Enviar(string mensaje) {\n",
    "        _notificador.Enviar(mensaje);\n",
    "    }\n",
    "}\n",
    "\n",
    "// Decorador concreto\n",
    "public class DecoradorHTML : DecoradorNotificador {\n",
    "    public DecoradorHTML(INotificador notificador) : base(notificador) { }\n",
    "\n",
    "    public override void Enviar(string mensaje) {\n",
    "        Console.WriteLine(\"[HTML] Formateando mensaje\");\n",
    "        base.Enviar($\"<html><body>{mensaje}</body></html>\");\n",
    "    }\n",
    "}"
   ]
  }
 ],
 "metadata": {
  "kernelspec": {
   "display_name": "Python 3",
   "language": "python",
   "name": "python3"
  },
  "language_info": {
   "codemirror_mode": {
    "name": "ipython",
    "version": 3
   },
   "file_extension": ".py",
   "mimetype": "text/x-python",
   "name": "python",
   "nbconvert_exporter": "python",
   "pygments_lexer": "ipython3",
   "version": "3.9.6"
  }
 },
 "nbformat": 4,
 "nbformat_minor": 4
}
