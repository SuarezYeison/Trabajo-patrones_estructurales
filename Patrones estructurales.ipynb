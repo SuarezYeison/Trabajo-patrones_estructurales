{
 "cells": [
  {
   "cell_type": "markdown",
   "id": "9124b32b-84b9-4c31-a5e5-1001400457a7",
   "metadata": {},
   "source": [
    "# Trabajo de Diseño de patrones y diseño de software - Patrones estructurales\n",
    "\n",
    "### Integrantes: \n",
    " #### - Wilson Andrés Vargas Rojas\n",
    " #### - Yeison Fabian Suarez Alba"
   ]
  },
  {
   "cell_type": "markdown",
   "id": "3857f526-3d71-4c67-8047-40c15aff0660",
   "metadata": {},
   "source": [
    "## Definición del problema 1 que se desean abordar:\n",
    "Se tiene un sistema de notificaciones en el que estas se envía por correo, sin embargo debe funcionar para multiples sistemas y cada vez se vuelve más grande, ya que queriendose respetar el principio Open/Close de SOLID extender la funcionalidad por medio de la herencia se vuelve complejo. \n",
    "\n",
    "Queriendo evitar esto, se realiza un Patrón Decorator con el fín de remplazar la herencia por la composición o agregación, lo que se irá explicando.\n",
    "\n",
    "### Los tipos de notificación.\n",
    "\n",
    "Lo primero es construir una interfaz de notificaciones:"
   ]
  },
  {
   "cell_type": "code",
   "execution_count": 12,
   "id": "05385e4b-d9bc-4e8e-84e7-0d8afd334d1e",
   "metadata": {},
   "outputs": [],
   "source": [
    "public interface INotificador\n",
    "    {\n",
    "        void Enviar(string mensaje);\n",
    "    }"
   ]
  },
  {
   "cell_type": "markdown",
   "id": "ccd2899d-b049-4e8d-8020-37b0a1897559",
   "metadata": {},
   "source": [
    "Despúes se debe definir las notificaciones que conocemos por el momento, sin embargo como queremos que estás sean diversas, lo principal es crear una clase abstracta para que sea el contrato entre los tipos de notificaciones, una base para notificar:"
   ]
  },
  {
   "cell_type": "code",
   "execution_count": 13,
   "id": "74d60339-0963-4338-9eca-6a55312acea4",
   "metadata": {},
   "outputs": [],
   "source": [
    "\n",
    "public abstract class NotificadorBase : INotificador\n",
    "    {\n",
    "        public abstract void Enviar(string mensaje);\n",
    "    }"
   ]
  },
  {
   "cell_type": "markdown",
   "id": "3035141f-28ee-4abf-bc7c-09965b2fbbc8",
   "metadata": {},
   "source": [
    "Ahora sí, los tipos de notificación:"
   ]
  },
  {
   "cell_type": "code",
   "execution_count": 14,
   "id": "dfebc7b8-683f-4444-9316-bbb23c5e6daa",
   "metadata": {},
   "outputs": [],
   "source": [
    "public class NotificadorEmail : NotificadorBase\n",
    "    {\n",
    "        public override void Enviar(string mensaje)\n",
    "        {\n",
    "            Console.WriteLine($\"Enviando email: {mensaje}\");\n",
    "        }\n",
    "    }\n",
    "\n",
    "public class NotificadorSMS : NotificadorBase\n",
    "    {\n",
    "        public override void Enviar(string mensaje)\n",
    "        {\n",
    "            Console.WriteLine($\"Enviando SMS: {mensaje}\");\n",
    "        }\n",
    "    }"
   ]
  },
  {
   "cell_type": "markdown",
   "id": "a53cfe98-70a8-4d98-bc99-67652b44501a",
   "metadata": {},
   "source": [
    "Hasta aquí no hay nada raro, el contrato ```NotificadorBase``` indica que se debe notificar y las clases concretas de ```NotificadorEmai```  y ```NotificadorSMS``` dictan como hacerlo, pero ahora surgen varios problemas.\n",
    "\n",
    "El primero de ellos es, que debo hacer si tengo que notificar un correo, pero en HTML o encriptado o Notificar a SMS usando un número privado?\n",
    "\n",
    "### Los decoradores.\n",
    "Lo lógico sería heredar y seguir heredando, pero la herencia es estatica, no se puede cambiar en tiempo de ejecución, mientras que con la composición un objeto tiene una referencia a otro y le delega parte del trabajo, en este caso el comportamiento adicional (HTML, encriptado, Privado, etc). Estos comportamientos se definen como decoradores."
   ]
  },
  {
   "cell_type": "markdown",
   "id": "2f62af7d-0f8c-433d-81a6-b04d05834ffc",
   "metadata": {},
   "source": [
    "#### Decorador base:\n",
    "El notificador termina siendo usado por el decorador base"
   ]
  },
  {
   "cell_type": "code",
   "execution_count": 15,
   "id": "6b24ba77-b10f-47c5-bcf8-5a9fdb842982",
   "metadata": {},
   "outputs": [],
   "source": [
    "public abstract class DecoradorNotificador : INotificador\n",
    "    {\n",
    "        protected readonly INotificador _notificador;\n",
    "\n",
    "        public DecoradorNotificador(INotificador notificador)\n",
    "        {\n",
    "            _notificador = notificador;\n",
    "        }\n",
    "\n",
    "        public virtual void Enviar(string mensaje)\n",
    "        {\n",
    "            _notificador.Enviar(mensaje);\n",
    "        }\n",
    "    }"
   ]
  },
  {
   "cell_type": "markdown",
   "id": "758f3c65-6838-4dbc-927e-75f2ec537d93",
   "metadata": {},
   "source": [
    "#### Decoradores concretos:"
   ]
  },
  {
   "cell_type": "code",
   "execution_count": 16,
   "id": "5832d107-d908-42dc-ac17-6704d2bddd55",
   "metadata": {},
   "outputs": [],
   "source": [
    "public class DecoradorHTML : DecoradorNotificador\n",
    "    {\n",
    "        public DecoradorHTML(INotificador notificador) : base(notificador) { }\n",
    "\n",
    "        public override void Enviar(string mensaje)\n",
    "        {\n",
    "            Console.WriteLine(\"[HTML] Formateando mensaje a HTML\");\n",
    "            base.Enviar($\"<html><body><p>{mensaje}</p></body></html>\");\n",
    "        }\n",
    "    }\n",
    "\n",
    "public class DecoradorUrgente : DecoradorNotificador\n",
    "    {\n",
    "        public DecoradorUrgente(INotificador notificador) : base(notificador) { }\n",
    "\n",
    "        public override void Enviar(string mensaje)\n",
    "        {\n",
    "            Console.WriteLine(\"[URGENTE] Marcando mensaje como urgente\");\n",
    "            base.Enviar($\"¡URGENTE! {mensaje}\");\n",
    "        }\n",
    "    }"
   ]
  },
  {
   "cell_type": "markdown",
   "id": "0467385b-75ea-40b1-86f2-673fb6ef55db",
   "metadata": {},
   "source": [
    "Ahora puedo especificar no sólo el tipo de notificación, si no darle comportamientos adicionales:"
   ]
  },
  {
   "cell_type": "code",
   "execution_count": 17,
   "id": "b87b8ac6-f6c3-4b65-8033-e2b70dea2046",
   "metadata": {},
   "outputs": [
    {
     "name": "stdout",
     "output_type": "stream",
     "text": [
      "\n",
      "Notificación básica por email:\n",
      "Enviando email: Este es un mensaje normal\n",
      "\n",
      "Notificación con formato HTML:\n",
      "[HTML] Formateando mensaje a HTML\n",
      "Enviando email: <html><body><p>Este mensaje tiene formato HTML</p></body></html>\n",
      "\n",
      "Notificación HTML + Urgente:\n",
      "[URGENTE] Marcando mensaje como urgente\n",
      "[HTML] Formateando mensaje a HTML\n",
      "Enviando email: <html><body><p>¡URGENTE! Este mensaje es importante</p></body></html>\n",
      "\n",
      "Nueva cadena de notificaciones con SMS:\n",
      "[URGENTE] Marcando mensaje como urgente\n",
      "Enviando SMS: ¡URGENTE! Alerta por SMS\n"
     ]
    }
   ],
   "source": [
    "// Crear notificador base (Email)\n",
    "INotificador notificador = new NotificadorEmail();\n",
    "Console.WriteLine(\"\\nNotificación básica por email:\");\n",
    "notificador.Enviar(\"Este es un mensaje normal\");\n",
    "\n",
    "// Decorar con formato HTML\n",
    "notificador = new DecoradorHTML(notificador);\n",
    "Console.WriteLine(\"\\nNotificación con formato HTML:\");\n",
    "notificador.Enviar(\"Este mensaje tiene formato HTML\");\n",
    "\n",
    "// Decorar con marca de urgente\n",
    "notificador = new DecoradorUrgente(notificador);\n",
    "Console.WriteLine(\"\\nNotificación HTML + Urgente:\");\n",
    "notificador.Enviar(\"Este mensaje es importante\");\n",
    "\n",
    "// Crear una nueva cadena con SMS\n",
    "Console.WriteLine(\"\\nNueva cadena de notificaciones con SMS:\");\n",
    "INotificador notificadorSMS = new NotificadorSMS();\n",
    "notificadorSMS = new DecoradorUrgente(notificadorSMS);\n",
    "notificadorSMS.Enviar(\"Alerta por SMS\");"
   ]
  },
  {
   "cell_type": "markdown",
   "id": "03820fed-2d4c-4450-b815-0553f5f8e0df",
   "metadata": {},
   "source": [
    "### Añadiendo nuevas motificaciones y comportamientos:\n",
    "Si queremos añadir nuevos tipos de notificaciones y comportamientos, solo basta con seguir nuestro principio SOLID Open/Close, extender las funcionalidades.\n",
    "Añadamos Teams como notificación y un comportamiento de encriptación:"
   ]
  },
  {
   "cell_type": "code",
   "execution_count": 18,
   "id": "c00b93de-6fcc-45ec-ab4a-5e1bc558d3ef",
   "metadata": {},
   "outputs": [],
   "source": [
    "public class NotificadorTeams : NotificadorBase\n",
    "    {\n",
    "        public override void Enviar(string mensaje)\n",
    "        {\n",
    "            Console.WriteLine($\"Enviando mensaje por Teams: {mensaje}\");\n",
    "        }\n",
    "    }\n",
    "\n",
    "public class DecoradorEncriptado : DecoradorNotificador\n",
    "    {\n",
    "        public DecoradorEncriptado(INotificador notificador) : base(notificador) { }\n",
    "\n",
    "        public override void Enviar(string mensaje)\n",
    "        {\n",
    "            Console.WriteLine(\"[ENCRIPTADO] Simulando encriptación del mensaje...\");\n",
    "            base.Enviar(mensaje);\n",
    "        }\n",
    "    }"
   ]
  },
  {
   "cell_type": "markdown",
   "id": "785fb646-d29c-450c-955d-db9d86f1be2b",
   "metadata": {},
   "source": [
    "y luego podremos combinar todos los decoradores si queremos:"
   ]
  },
  {
   "cell_type": "code",
   "execution_count": 20,
   "id": "446f51f2-4a2d-4e1c-87c7-2d2c2ff437a0",
   "metadata": {},
   "outputs": [
    {
     "name": "stdout",
     "output_type": "stream",
     "text": [
      "\n",
      "Ejemplo completo (Teams + HTML + Urgente + Encriptado):\n",
      "[ENCRIPTADO] Simulando encriptación del mensaje...\n",
      "[URGENTE] Marcando mensaje como urgente\n",
      "[HTML] Formateando mensaje a HTML\n",
      "Enviando mensaje por Teams: <html><body><p>¡URGENTE! Mensaje importante y confidencial</p></body></html>\n"
     ]
    }
   ],
   "source": [
    "// Ejemplo combinando todos los decoradores\n",
    "Console.WriteLine(\"\\nEjemplo completo (Teams + HTML + Urgente + Encriptado):\");\n",
    "INotificador notificadorCompleto = new NotificadorTeams();\n",
    "notificadorCompleto = new DecoradorHTML(notificadorCompleto);\n",
    "notificadorCompleto = new DecoradorUrgente(notificadorCompleto);\n",
    "notificadorCompleto = new DecoradorEncriptado(notificadorCompleto);\n",
    "notificadorCompleto.Enviar(\"Mensaje importante y confidencial\");"
   ]
  },
  {
   "cell_type": "markdown",
   "id": "4f2076f5-fa87-447d-948f-13e4d5a7039b",
   "metadata": {},
   "source": [
    "## Definición del problema 2 que se desean abordar:\n",
    "Se tiene una pasarela de pagos en la que queremos hacer transferencias y reembolsos con diferentes medios de pago y transferencia, estas usan APIs en las qu se hacen transacciones, sin embargo cada uno de los métodos de uso de las API no se adapta a los nuevos estandares de las pasarelas de pago, se necesita adaptar las APIs.\n",
    "\n",
    "### La interfaz de la pasarela de pagos\n",
    "Manteniendo los principios SOLID, se usa una interfaz como contrato entre los métodos de pago."
   ]
  },
  {
   "cell_type": "code",
   "execution_count": 21,
   "id": "a2ae9add-fdeb-41e9-9947-b250914582bd",
   "metadata": {},
   "outputs": [],
   "source": [
    "public interface IPasarelaPago\n",
    "    {\n",
    "        bool Pagar(decimal monto);\n",
    "        bool Reembolsar(string idTransaccion);\n",
    "    }"
   ]
  },
  {
   "cell_type": "markdown",
   "id": "1fd9fce3-5ec6-4301-8679-57489d724849",
   "metadata": {},
   "source": [
    "### Las APIs\n",
    "En este caso se tiene a PayPal y Stripe como métodos de pago"
   ]
  },
  {
   "cell_type": "code",
   "execution_count": 27,
   "id": "5b38bfcb-cfcc-4833-bbd6-9dfda7aab6b2",
   "metadata": {},
   "outputs": [],
   "source": [
    "public class PayPalAPI\n",
    "    {\n",
    "        public bool RealizarPago(decimal monto, string moneda)\n",
    "        {\n",
    "            Console.WriteLine($\"PayPal: Procesando pago de {monto} {moneda}\");\n",
    "            return true;\n",
    "        }\n",
    "\n",
    "        public bool SolicitarReembolso(string idPago)\n",
    "        {\n",
    "            Console.WriteLine($\"PayPal: Reembolsando pago ID: {idPago}\");\n",
    "            return true;\n",
    "        }\n",
    "    }\n",
    "\n",
    "public class StripeAPI\n",
    "    {\n",
    "        public string CrearCargo(int montoCentavos, string descripcion)\n",
    "        {\n",
    "            Console.WriteLine($\"Stripe: Creando cargo de {montoCentavos/100.0m:C} - {descripcion}\");\n",
    "            return \"ch_\" + Guid.NewGuid().ToString();\n",
    "        }\n",
    "\n",
    "        public bool DevolverCargo(string idCargo)\n",
    "        {\n",
    "            Console.WriteLine($\"Stripe: Devolviendo cargo ID: {idCargo}\");\n",
    "            return true;\n",
    "        }\n",
    "    }"
   ]
  },
  {
   "cell_type": "markdown",
   "id": "f3c38fbc-c3c1-48a7-ad77-37c4e8850ccc",
   "metadata": {},
   "source": [
    "Notese como no se puede hacer un uso de la interfaz de manera directa, empezando primero que los métodos de cada API llevan nombres distintos y que cada uno de estos métodos usan tipos de datos diferentes (Uno recibe valores enteros de pago por cetavos), pero el estandar es usar el tipo decimal, hacer estas conversiones en el código cliente, rompe con los principios SOLID, por lo que se debe aplicar el patrón Adapter\n",
    "\n",
    "### Los adapatadores\n",
    "Con los adpatadores estoy que dos APIs que no están estandarizadas lo sean"
   ]
  },
  {
   "cell_type": "code",
   "execution_count": 28,
   "id": "b08f3c4c-e56c-4d71-8dd3-c035d4eb9685",
   "metadata": {},
   "outputs": [],
   "source": [
    "public class AdaptadorPayPal : IPasarelaPago\n",
    "    {\n",
    "        private readonly PayPalAPI _paypal;\n",
    "\n",
    "        public AdaptadorPayPal(PayPalAPI paypal)\n",
    "        {\n",
    "            _paypal = paypal;\n",
    "        }\n",
    "\n",
    "        public bool Pagar(decimal monto)\n",
    "        {\n",
    "            return _paypal.RealizarPago(monto, \"USD\");\n",
    "        }\n",
    "\n",
    "        public bool Reembolsar(string idTransaccion)\n",
    "        {\n",
    "            return _paypal.SolicitarReembolso(idTransaccion);\n",
    "        }\n",
    "    }\n",
    "\n",
    "public class AdaptadorStripe : IPasarelaPago\n",
    "    {\n",
    "        private readonly StripeAPI _stripe;\n",
    "\n",
    "        public AdaptadorStripe(StripeAPI stripe)\n",
    "        {\n",
    "            _stripe = stripe;\n",
    "        }\n",
    "\n",
    "        public bool Pagar(decimal monto)\n",
    "        {\n",
    "            int montoCentavos = (int)(monto * 100);\n",
    "            string idCargo = _stripe.CrearCargo(montoCentavos, \"Compra\");\n",
    "            return !string.IsNullOrEmpty(idCargo);\n",
    "        }\n",
    "\n",
    "        public bool Reembolsar(string idTransaccion)\n",
    "        {\n",
    "            return _stripe.DevolverCargo(idTransaccion);\n",
    "        }\n",
    "    }"
   ]
  },
  {
   "cell_type": "markdown",
   "id": "9d21b8a8-e36e-47af-9d20-0a641cc0ef5a",
   "metadata": {},
   "source": [
    "Ahora llamando el código cliente se tendría:"
   ]
  },
  {
   "cell_type": "code",
   "execution_count": 33,
   "id": "51f75e3f-f723-4ade-822d-c0be7fb1e02a",
   "metadata": {},
   "outputs": [
    {
     "name": "stdout",
     "output_type": "stream",
     "text": [
      "\n",
      "--- Probando PayPal ---\n",
      "PayPal: Procesando pago de 150,75 USD\n",
      "Resultado del pago: True\n",
      "PayPal: Reembolsando pago ID: PAY-12345\n",
      "Resultado del reembolso: True\n",
      "\n",
      "--- Probando Stripe ---\n",
      "Stripe: Creando cargo de $ 201 - Compra\n",
      "Resultado del pago: True\n",
      "Stripe: Devolviendo cargo ID: ch_abc123\n",
      "Resultado del reembolso: True\n"
     ]
    }
   ],
   "source": [
    "// Crear instancias de las APIs externas\n",
    "var paypalAPI = new PayPalAPI();\n",
    "var stripeAPI = new StripeAPI();\n",
    "\n",
    "// Crear adaptadores\n",
    "IPasarelaPago pasarelaPayPal = new AdaptadorPayPal(paypalAPI);\n",
    "IPasarelaPago pasarelaStripe = new AdaptadorStripe(stripeAPI);\n",
    "\n",
    "// Probar PayPal\n",
    "Console.WriteLine(\"\\n--- Probando PayPal ---\");\n",
    "bool resultadoPayPal = pasarelaPayPal.Pagar(150.75m);\n",
    "Console.WriteLine($\"Resultado del pago: {resultadoPayPal}\");\n",
    "\n",
    "if (resultadoPayPal)\n",
    "{\n",
    "    bool reembolsoPayPal = pasarelaPayPal.Reembolsar(\"PAY-12345\");\n",
    "    Console.WriteLine($\"Resultado del reembolso: {reembolsoPayPal}\");\n",
    "}\n",
    "\n",
    "// Probar Stripe\n",
    "Console.WriteLine(\"\\n--- Probando Stripe ---\");\n",
    "bool resultadoStripe = pasarelaStripe.Pagar(200.50m);\n",
    "Console.WriteLine($\"Resultado del pago: {resultadoStripe}\");\n",
    "\n",
    "if (resultadoStripe)\n",
    "{\n",
    "    bool reembolsoStripe = pasarelaStripe.Reembolsar(\"ch_abc123\");\n",
    "    Console.WriteLine($\"Resultado del reembolso: {reembolsoStripe}\");\n",
    "}\n"
   ]
  },
  {
   "cell_type": "markdown",
   "id": "51e6cebb-d939-4b69-9910-a1a9a4024002",
   "metadata": {},
   "source": [
    "### Añadiendo otra API de pago\n",
    "Añadamos por ejemplo Bitcoin, en la que usamos una API y creamos su adaptador:"
   ]
  },
  {
   "cell_type": "code",
   "execution_count": 36,
   "id": "cf2b77c0-1cf6-4c8e-b344-a36f5ae9fde5",
   "metadata": {},
   "outputs": [],
   "source": [
    "public class BitcoinAPI\n",
    "    {\n",
    "        public string EnviarBTC(double cantidadBTC, string direccionBitcoin)\n",
    "        {\n",
    "            Console.WriteLine($\"BitcoinAPI: Enviando {cantidadBTC} BTC a la dirección {direccionBitcoin}\");\n",
    "            // Simulación de envío de Bitcoin\n",
    "            if (cantidadBTC > 0 && !string.IsNullOrEmpty(direccionBitcoin))\n",
    "            {\n",
    "                Console.WriteLine(\"BitcoinAPI: Transacción completada exitosamente\");\n",
    "                return $\"tx_{Guid.NewGuid().ToString(\"N\")}\"; // Simula un hash de transacción\n",
    "            }\n",
    "            Console.WriteLine(\"BitcoinAPI: Error - Transacción fallida\");\n",
    "            return string.Empty;\n",
    "        }\n",
    "\n",
    "        public bool VerificarTransaccion(string hashTransaccion)\n",
    "        {\n",
    "            Console.WriteLine($\"BitcoinAPI: Verificando transacción {hashTransaccion}\");\n",
    "            // Simulación de verificación de transacción\n",
    "            bool resultado = !string.IsNullOrEmpty(hashTransaccion);\n",
    "            Console.WriteLine($\"BitcoinAPI: Transacción {(resultado ? \"válida\" : \"inválida\")}\");\n",
    "            return resultado;\n",
    "        }\n",
    "\n",
    "        public bool DevolverBTC(string hashTransaccion, string direccionRetorno)\n",
    "        {\n",
    "            Console.WriteLine($\"BitcoinAPI: Iniciando reembolso para la transacción {hashTransaccion}\");\n",
    "            Console.WriteLine($\"BitcoinAPI: Dirección de retorno: {direccionRetorno}\");\n",
    "            // Simulación de devolución de Bitcoin\n",
    "            if (!string.IsNullOrEmpty(hashTransaccion) && !string.IsNullOrEmpty(direccionRetorno))\n",
    "            {\n",
    "                Console.WriteLine(\"BitcoinAPI: Reembolso completado exitosamente\");\n",
    "                return true;\n",
    "            }\n",
    "            Console.WriteLine(\"BitcoinAPI: Error - Reembolso fallido\");\n",
    "            return false;\n",
    "        }\n",
    "\n",
    "        public double ConvertirUSDaBTC(decimal montoUSD)\n",
    "        {\n",
    "            Console.WriteLine($\"BitcoinAPI: Convirtiendo ${montoUSD} USD a BTC\");\n",
    "            // Simulación de tasa de conversión (1 BTC = 50,000 USD)\n",
    "            const decimal TASA_BTC_USD = 50000m;\n",
    "            double cantidadBTC = (double)(montoUSD / TASA_BTC_USD);\n",
    "            Console.WriteLine($\"BitcoinAPI: ${montoUSD} USD = {cantidadBTC} BTC (Tasa: 1 BTC = ${TASA_BTC_USD} USD)\");\n",
    "            return cantidadBTC;\n",
    "        }\n",
    "    }\n",
    "\n",
    "public class AdaptadorBitcoin : IPasarelaPago\n",
    "    {\n",
    "        private readonly BitcoinAPI _bitcoin;\n",
    "        private readonly string _direccionBitcoin;\n",
    "\n",
    "        public AdaptadorBitcoin(BitcoinAPI bitcoin, string direccionBitcoin)\n",
    "        {\n",
    "            _bitcoin = bitcoin;\n",
    "            _direccionBitcoin = direccionBitcoin;\n",
    "        }\n",
    "\n",
    "        public bool Pagar(decimal monto)\n",
    "        {\n",
    "            double cantidadBTC = _bitcoin.ConvertirUSDaBTC(monto);\n",
    "            string hashTransaccion = _bitcoin.EnviarBTC(cantidadBTC, _direccionBitcoin);\n",
    "            return !string.IsNullOrEmpty(hashTransaccion);\n",
    "        }\n",
    "\n",
    "        public bool Reembolsar(string idTransaccion)\n",
    "        {\n",
    "            return _bitcoin.DevolverBTC(idTransaccion, _direccionBitcoin);\n",
    "        }\n",
    "    }"
   ]
  },
  {
   "cell_type": "markdown",
   "id": "1889bcc7-9bd5-493e-a211-6f1cf2d24db8",
   "metadata": {},
   "source": [
    "Por último la usamos siguiendo el mismo estandar"
   ]
  },
  {
   "cell_type": "code",
   "execution_count": 37,
   "id": "c2ef46f6-9763-4e61-9c87-4edf283ecc17",
   "metadata": {},
   "outputs": [
    {
     "name": "stdout",
     "output_type": "stream",
     "text": [
      "\n",
      "--- Probando Bitcoin ---\n",
      "BitcoinAPI: Convirtiendo $0,05 USD a BTC\n",
      "BitcoinAPI: $0,05 USD = 1E-06 BTC (Tasa: 1 BTC = $50000 USD)\n",
      "BitcoinAPI: Enviando 1E-06 BTC a la dirección 1A1zP1eP5QGefi2DMPTfTL5SLmv7DivfNa\n",
      "BitcoinAPI: Transacción completada exitosamente\n",
      "Resultado del pago: True\n",
      "BitcoinAPI: Iniciando reembolso para la transacción tx_abc123def456\n",
      "BitcoinAPI: Dirección de retorno: 1A1zP1eP5QGefi2DMPTfTL5SLmv7DivfNa\n",
      "BitcoinAPI: Reembolso completado exitosamente\n",
      "Resultado del reembolso: True\n"
     ]
    }
   ],
   "source": [
    "var bitcoinAPI = new BitcoinAPI();\n",
    "\n",
    "IPasarelaPago pasarelaBitcoin = new AdaptadorBitcoin(bitcoinAPI, \"1A1zP1eP5QGefi2DMPTfTL5SLmv7DivfNa\"); // Dirección Bitcoin de ejemplo\n",
    "\n",
    "// Probar Bitcoin\n",
    "Console.WriteLine(\"\\n--- Probando Bitcoin ---\");\n",
    "bool resultadoBitcoin = pasarelaBitcoin.Pagar(0.05m); // Monto pequeño en USD para el ejemplo\n",
    "Console.WriteLine($\"Resultado del pago: {resultadoBitcoin}\");\n",
    "\n",
    "if (resultadoBitcoin)\n",
    "{\n",
    "    bool reembolsoBitcoin = pasarelaBitcoin.Reembolsar(\"tx_abc123def456\");\n",
    "    Console.WriteLine($\"Resultado del reembolso: {reembolsoBitcoin}\");\n",
    "}"
   ]
  },
  {
   "cell_type": "code",
   "execution_count": null,
   "id": "5e179675-3aa4-4f5c-84f0-a198f7e80715",
   "metadata": {},
   "outputs": [],
   "source": []
  }
 ],
 "metadata": {
  "kernelspec": {
   "display_name": ".NET (C#)",
   "language": "C#",
   "name": ".net-csharp"
  },
  "language_info": {
   "file_extension": ".cs",
   "mimetype": "text/x-csharp",
   "name": "C#",
   "pygments_lexer": "csharp",
   "version": "13.0"
  }
 },
 "nbformat": 4,
 "nbformat_minor": 5
}
